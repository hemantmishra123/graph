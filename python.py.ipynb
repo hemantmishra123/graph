{
 "cells": [
  {
   "cell_type": "code",
   "execution_count": 3,
   "metadata": {},
   "outputs": [
    {
     "data": {
      "text/html": [
       "<div>\n",
       "<style scoped>\n",
       "    .dataframe tbody tr th:only-of-type {\n",
       "        vertical-align: middle;\n",
       "    }\n",
       "\n",
       "    .dataframe tbody tr th {\n",
       "        vertical-align: top;\n",
       "    }\n",
       "\n",
       "    .dataframe thead th {\n",
       "        text-align: right;\n",
       "    }\n",
       "</style>\n",
       "<table border=\"1\" class=\"dataframe\">\n",
       "  <thead>\n",
       "    <tr style=\"text-align: right;\">\n",
       "      <th></th>\n",
       "      <th>First Name</th>\n",
       "      <th>Last Name</th>\n",
       "      <th>Age</th>\n",
       "      <th>Agent</th>\n",
       "      <th>Details</th>\n",
       "      <th>Phone Number</th>\n",
       "      <th>Email</th>\n",
       "      <th>Quoted-Price</th>\n",
       "      <th>Campaign</th>\n",
       "      <th>Region</th>\n",
       "      <th>Date</th>\n",
       "      <th>Assignee</th>\n",
       "      <th>Quoted Price Cateogory</th>\n",
       "    </tr>\n",
       "  </thead>\n",
       "  <tbody>\n",
       "    <tr>\n",
       "      <th>0</th>\n",
       "      <td>Abigail</td>\n",
       "      <td>Jones</td>\n",
       "      <td>55</td>\n",
       "      <td>5</td>\n",
       "      <td>Dismissal</td>\n",
       "      <td>9898776512</td>\n",
       "      <td>AbigailJones @gmail.com</td>\n",
       "      <td>1700</td>\n",
       "      <td>San Fransico</td>\n",
       "      <td>US</td>\n",
       "      <td>2022-05-01</td>\n",
       "      <td>ThomasJoe@gmail.com</td>\n",
       "      <td>$ 1000-2000</td>\n",
       "    </tr>\n",
       "    <tr>\n",
       "      <th>1</th>\n",
       "      <td>Adia</td>\n",
       "      <td>Williams</td>\n",
       "      <td>38</td>\n",
       "      <td>4</td>\n",
       "      <td>Contract Labour</td>\n",
       "      <td>9898776514</td>\n",
       "      <td>AdiaWilliams @gmail.com</td>\n",
       "      <td>3000</td>\n",
       "      <td>Dubai</td>\n",
       "      <td>EMEA</td>\n",
       "      <td>2022-05-01</td>\n",
       "      <td>JackCorner@gmail.com</td>\n",
       "      <td>$ &gt;2000</td>\n",
       "    </tr>\n",
       "    <tr>\n",
       "      <th>2</th>\n",
       "      <td>Alexandra</td>\n",
       "      <td>Brown</td>\n",
       "      <td>44</td>\n",
       "      <td>4</td>\n",
       "      <td>Matters relating to wages, bonus, ad-hoc, casu...</td>\n",
       "      <td>9898776515</td>\n",
       "      <td>AlexandraBrown @gmail.com</td>\n",
       "      <td>1700</td>\n",
       "      <td>Chicago</td>\n",
       "      <td>US</td>\n",
       "      <td>2022-05-01</td>\n",
       "      <td>JackCorner@gmail.com</td>\n",
       "      <td>$ 1000-2000</td>\n",
       "    </tr>\n",
       "    <tr>\n",
       "      <th>3</th>\n",
       "      <td>Alice</td>\n",
       "      <td>White</td>\n",
       "      <td>38</td>\n",
       "      <td>2</td>\n",
       "      <td>Matters relating to Workmen Compensation Act</td>\n",
       "      <td>9898776516</td>\n",
       "      <td>AliceWhite @gmail.com</td>\n",
       "      <td>3000</td>\n",
       "      <td>Chicago</td>\n",
       "      <td>US</td>\n",
       "      <td>2022-05-02</td>\n",
       "      <td>MariaHernandez@gmail.com</td>\n",
       "      <td>$ &gt;2000</td>\n",
       "    </tr>\n",
       "    <tr>\n",
       "      <th>4</th>\n",
       "      <td>Alis</td>\n",
       "      <td>Harris</td>\n",
       "      <td>63</td>\n",
       "      <td>2</td>\n",
       "      <td>ESI</td>\n",
       "      <td>9898776517</td>\n",
       "      <td>AlisHarris @gmail.com</td>\n",
       "      <td>3000</td>\n",
       "      <td>San Fransico</td>\n",
       "      <td>US</td>\n",
       "      <td>2022-05-02</td>\n",
       "      <td>MariaHernandez@gmail.com</td>\n",
       "      <td>$ &gt;2000</td>\n",
       "    </tr>\n",
       "    <tr>\n",
       "      <th>...</th>\n",
       "      <td>...</td>\n",
       "      <td>...</td>\n",
       "      <td>...</td>\n",
       "      <td>...</td>\n",
       "      <td>...</td>\n",
       "      <td>...</td>\n",
       "      <td>...</td>\n",
       "      <td>...</td>\n",
       "      <td>...</td>\n",
       "      <td>...</td>\n",
       "      <td>...</td>\n",
       "      <td>...</td>\n",
       "      <td>...</td>\n",
       "    </tr>\n",
       "    <tr>\n",
       "      <th>194</th>\n",
       "      <td>Willow</td>\n",
       "      <td>Cox</td>\n",
       "      <td>26</td>\n",
       "      <td>2</td>\n",
       "      <td>Matters for/against quashing of criminal proce...</td>\n",
       "      <td>9898776707</td>\n",
       "      <td>WillowCox @gmail.com</td>\n",
       "      <td>900</td>\n",
       "      <td>San Fransico</td>\n",
       "      <td>US</td>\n",
       "      <td>2022-05-02</td>\n",
       "      <td>MariaHernandez@gmail.com</td>\n",
       "      <td>$ 500-1000</td>\n",
       "    </tr>\n",
       "    <tr>\n",
       "      <th>195</th>\n",
       "      <td>Winnie</td>\n",
       "      <td>Jones</td>\n",
       "      <td>54</td>\n",
       "      <td>5</td>\n",
       "      <td>Matters challenging prosecution under Income T...</td>\n",
       "      <td>9898776708</td>\n",
       "      <td>WinnieJones @gmail.com</td>\n",
       "      <td>3000</td>\n",
       "      <td>Chicago</td>\n",
       "      <td>US</td>\n",
       "      <td>2022-05-01</td>\n",
       "      <td>ThomasJoe@gmail.com</td>\n",
       "      <td>$ &gt;2000</td>\n",
       "    </tr>\n",
       "    <tr>\n",
       "      <th>196</th>\n",
       "      <td>Ximena</td>\n",
       "      <td>Taylor</td>\n",
       "      <td>46</td>\n",
       "      <td>5</td>\n",
       "      <td>Matters challenging prosecution under Negotiab...</td>\n",
       "      <td>9898776709</td>\n",
       "      <td>XimenaTaylor @gmail.com</td>\n",
       "      <td>3000</td>\n",
       "      <td>Chicago</td>\n",
       "      <td>US</td>\n",
       "      <td>2022-05-01</td>\n",
       "      <td>ThomasJoe@gmail.com</td>\n",
       "      <td>$ &gt;2000</td>\n",
       "    </tr>\n",
       "    <tr>\n",
       "      <th>197</th>\n",
       "      <td>Yvonne</td>\n",
       "      <td>Williams</td>\n",
       "      <td>60</td>\n",
       "      <td>3</td>\n",
       "      <td>Criminal matters relating to Central Excise &amp; ...</td>\n",
       "      <td>9898776710</td>\n",
       "      <td>YvonneWilliams @gmail.com</td>\n",
       "      <td>1700</td>\n",
       "      <td>Chicago</td>\n",
       "      <td>US</td>\n",
       "      <td>2022-05-02</td>\n",
       "      <td>DavidSmith@gmail.com</td>\n",
       "      <td>$ 1000-2000</td>\n",
       "    </tr>\n",
       "    <tr>\n",
       "      <th>198</th>\n",
       "      <td>Zoe</td>\n",
       "      <td>Brown</td>\n",
       "      <td>45</td>\n",
       "      <td>4</td>\n",
       "      <td>Criminal matters relating to Customs Act, 1962</td>\n",
       "      <td>9898776711</td>\n",
       "      <td>ZoeBrown @gmail.com</td>\n",
       "      <td>900</td>\n",
       "      <td>Dubai</td>\n",
       "      <td>EMEA</td>\n",
       "      <td>2022-05-02</td>\n",
       "      <td>JackCorner@gmail.com</td>\n",
       "      <td>$ 500-1000</td>\n",
       "    </tr>\n",
       "  </tbody>\n",
       "</table>\n",
       "<p>199 rows × 13 columns</p>\n",
       "</div>"
      ],
      "text/plain": [
       "    First Name  Last Name  Age  Agent  \\\n",
       "0      Abigail     Jones    55      5   \n",
       "1         Adia  Williams    38      4   \n",
       "2    Alexandra     Brown    44      4   \n",
       "3        Alice     White    38      2   \n",
       "4         Alis    Harris    63      2   \n",
       "..         ...        ...  ...    ...   \n",
       "194     Willow       Cox    26      2   \n",
       "195     Winnie     Jones    54      5   \n",
       "196     Ximena    Taylor    46      5   \n",
       "197     Yvonne  Williams    60      3   \n",
       "198        Zoe     Brown    45      4   \n",
       "\n",
       "                                               Details  Phone Number  \\\n",
       "0                                            Dismissal    9898776512   \n",
       "1                                      Contract Labour    9898776514   \n",
       "2    Matters relating to wages, bonus, ad-hoc, casu...    9898776515   \n",
       "3         Matters relating to Workmen Compensation Act    9898776516   \n",
       "4                                                  ESI    9898776517   \n",
       "..                                                 ...           ...   \n",
       "194  Matters for/against quashing of criminal proce...    9898776707   \n",
       "195  Matters challenging prosecution under Income T...    9898776708   \n",
       "196  Matters challenging prosecution under Negotiab...    9898776709   \n",
       "197  Criminal matters relating to Central Excise & ...    9898776710   \n",
       "198     Criminal matters relating to Customs Act, 1962    9898776711   \n",
       "\n",
       "                         Email  Quoted-Price      Campaign Region       Date  \\\n",
       "0      AbigailJones @gmail.com          1700  San Fransico     US 2022-05-01   \n",
       "1      AdiaWilliams @gmail.com          3000         Dubai   EMEA 2022-05-01   \n",
       "2    AlexandraBrown @gmail.com          1700       Chicago     US 2022-05-01   \n",
       "3        AliceWhite @gmail.com          3000       Chicago     US 2022-05-02   \n",
       "4        AlisHarris @gmail.com          3000  San Fransico     US 2022-05-02   \n",
       "..                         ...           ...           ...    ...        ...   \n",
       "194       WillowCox @gmail.com           900  San Fransico     US 2022-05-02   \n",
       "195     WinnieJones @gmail.com          3000       Chicago     US 2022-05-01   \n",
       "196    XimenaTaylor @gmail.com          3000       Chicago     US 2022-05-01   \n",
       "197  YvonneWilliams @gmail.com          1700       Chicago     US 2022-05-02   \n",
       "198        ZoeBrown @gmail.com           900         Dubai   EMEA 2022-05-02   \n",
       "\n",
       "                     Assignee Quoted Price Cateogory  \n",
       "0         ThomasJoe@gmail.com            $ 1000-2000  \n",
       "1        JackCorner@gmail.com                $ >2000  \n",
       "2        JackCorner@gmail.com            $ 1000-2000  \n",
       "3    MariaHernandez@gmail.com                $ >2000  \n",
       "4    MariaHernandez@gmail.com                $ >2000  \n",
       "..                        ...                    ...  \n",
       "194  MariaHernandez@gmail.com             $ 500-1000  \n",
       "195       ThomasJoe@gmail.com                $ >2000  \n",
       "196       ThomasJoe@gmail.com                $ >2000  \n",
       "197      DavidSmith@gmail.com            $ 1000-2000  \n",
       "198      JackCorner@gmail.com             $ 500-1000  \n",
       "\n",
       "[199 rows x 13 columns]"
      ]
     },
     "execution_count": 3,
     "metadata": {},
     "output_type": "execute_result"
    }
   ],
   "source": [
    "import pandas as pd\n",
    "import matplotlib.pyplot as plt\n",
    "df = pd.read_excel('lead.xlsx')\n",
    "df"
   ]
  },
  {
   "cell_type": "code",
   "execution_count": 40,
   "metadata": {},
   "outputs": [
    {
     "data": {
      "text/plain": [
       "<BarContainer object of 2 artists>"
      ]
     },
     "execution_count": 40,
     "metadata": {},
     "output_type": "execute_result"
    },
    {
     "data": {
      "image/png": "[encoded data removed]",
      "text/plain": [
       "<Figure size 432x288 with 1 Axes>"
      ]
     },
     "metadata": {
      "needs_background": "light"
     },
     "output_type": "display_data"
    }
   ],
   "source": [
    "x=df['Region']\n",
    "count=0\n",
    "counter=0\n",
    "li=[]\n",
    "mi=[]\n",
    "mi.append(\"EMEA\")\n",
    "mi.append(\"US\")\n",
    "for i in x:\n",
    "    if i==\"US\":\n",
    "        count+=1\n",
    "    if i==\"EMEA\":\n",
    "        counter+=1\n",
    "li.append(counter)\n",
    "li.append(count)\n",
    "#print(count)\n",
    "#print(counter)\n",
    "plt.bar(mi,li)\n"
   ]
  },
  {
   "cell_type": "code",
   "execution_count": 46,
   "metadata": {},
   "outputs": [
    {
     "data": {
      "text/plain": [
       "<BarContainer object of 3 artists>"
      ]
     },
     "execution_count": 46,
     "metadata": {},
     "output_type": "execute_result"
    },
    {
     "data": {
      "image/png": "[encoded data removed]",
      "text/plain": [
       "<Figure size 432x288 with 1 Axes>"
      ]
     },
     "metadata": {
      "needs_background": "light"
     },
     "output_type": "display_data"
    }
   ],
   "source": [
    "x1=df['Campaign']\n",
    "x1\n",
    "data=[]\n",
    "y=[]\n",
    "n=0\n",
    "m=0\n",
    "\n",
    "for i in x1:\n",
    "    if i==\"Dubai\":\n",
    "        n+=1\n",
    "    if i==\"Chicago\":\n",
    "        m+=1\n",
    "        \n",
    "l=len(x1)-n-m\n",
    "\n",
    "y.append(\"1\")\n",
    "y.append(\"2\")\n",
    "y.append(\"3\")\n",
    "data.append(n)\n",
    "data.append(m)\n",
    "data.append(l)\n",
    "plt.bar(y,data)\n"
   ]
  },
  {
   "cell_type": "code",
   "execution_count": 99,
   "metadata": {},
   "outputs": [
    {
     "name": "stdout",
     "output_type": "stream",
     "text": [
      "['DavidSmith@gmail.com', 'JackCorner@gmail.com', 'MariaHernandez@gmail.com', 'MichaelSmith@gmail.com', 'ThomasJoe@gmail.com']\n"
     ]
    },
    {
     "data": {
      "text/plain": [
       "<BarContainer object of 5 artists>"
      ]
     },
     "execution_count": 99,
     "metadata": {},
     "output_type": "execute_result"
    },
    {
     "data": {
      "image/png": "[encoded data removed]",
      "text/plain": [
       "<Figure size 432x288 with 1 Axes>"
      ]
     },
     "metadata": {
      "needs_background": "light"
     },
     "output_type": "display_data"
    }
   ],
   "source": [
    "email=df['Assignee']\n",
    "a=set()\n",
    "x3=[]\n",
    "y3=[]\n",
    "for i in email:\n",
    "    a.add(i)\n",
    "for i in a:\n",
    "    x3.append(i)\n",
    "x3.sort()\n",
    "print(x3)\n",
    "for i in x3:\n",
    "    count=0\n",
    "    for j in email:\n",
    "        if(i==j):\n",
    "            count+=1\n",
    "    y3.append(count)\n",
    "\n",
    "plt.bar(x3,y3,width=0.4)\n",
    "            \n"
   ]
  },
  {
   "cell_type": "code",
   "execution_count": 89,
   "metadata": {},
   "outputs": [
    {
     "data": {
      "text/plain": [
       "<BarContainer object of 3 artists>"
      ]
     },
     "execution_count": 89,
     "metadata": {},
     "output_type": "execute_result"
    },
    {
     "data": {
      "image/png": "[encoded data removed]",
      "text/plain": [
       "<Figure size 432x288 with 1 Axes>"
      ]
     },
     "metadata": {
      "needs_background": "light"
     },
     "output_type": "display_data"
    }
   ],
   "source": [
    "price=df[\"Quoted-Price\"]\n",
    "x4=[]\n",
    "y4=[]    \n",
    "subset1=df[df['Campaign'].isin(['Chicago'])]\n",
    "price1=subset['Quoted-Price']\n",
    "count1=sum(price1)\n",
    "\n",
    "subset2=df[df['Campaign'].isin(['Dubai'])]\n",
    "price2=subset2['Quoted-Price']\n",
    "count2=sum(price2)\n",
    "\n",
    "subset3=df[df['Campaign'].isin(['San Fransico'])]\n",
    "price3=subset3['Quoted-Price']\n",
    "count3=sum(price3)\n",
    "y4.append(count2)\n",
    "y4.append(count1)\n",
    "y4.append(count2)\n",
    "x4.append(\"1\")\n",
    "x4.append(\"2\")\n",
    "x4.append(\"3\")\n",
    "plt.bar(x4,y4)\n"
   ]
  },
  {
   "cell_type": "code",
   "execution_count": 104,
   "metadata": {},
   "outputs": [
    {
     "name": "stdout",
     "output_type": "stream",
     "text": [
      "[61293, 79306, 88688, 97606, 93129]\n"
     ]
    },
    {
     "data": {
      "text/plain": [
       "<BarContainer object of 5 artists>"
      ]
     },
     "execution_count": 104,
     "metadata": {},
     "output_type": "execute_result"
    },
    {
     "data": {
      "image/png": "[encoded data removed]",
      "text/plain": [
       "<Figure size 432x288 with 1 Axes>"
      ]
     },
     "metadata": {
      "needs_background": "light"
     },
     "output_type": "display_data"
    }
   ],
   "source": [
    "price=df[\"Quoted-Price\"]\n",
    "y5=[]  \n",
    "x5=[1,2,3,4,5]\n",
    "for i in x3:\n",
    "    set1=df[df['Assignee'].isin([i])]\n",
    "    sprice1=set1['Quoted-Price']\n",
    "    scount1=sum(sprice1)\n",
    "    y5.append(scount1)\n",
    "print(y5)\n",
    "plt.barh(x3,y5)\n",
    "\n"
   ]
  },
  {
   "cell_type": "code",
   "execution_count": 110,
   "metadata": {},
   "outputs": [
    {
     "data": {
      "text/plain": [
       "([<matplotlib.patches.Wedge at 0xbe468d0>,\n",
       "  <matplotlib.patches.Wedge at 0xbe46d50>],\n",
       " [Text(0.6479324183783551, 1.1500363390842814, 'EMEA'),\n",
       "  Text(-0.6479323107041801, -1.1500363997480871, 'US')],\n",
       " [Text(0.35341768275183005, 0.6272925485914261, '34%'),\n",
       "  Text(-0.35341762402046184, -0.6272925816807747, '66%')])"
      ]
     },
     "execution_count": 110,
     "metadata": {},
     "output_type": "execute_result"
    },
    {
     "data": {
      "image/png": "[encoded data removed]",
      "text/plain": [
       "<Figure size 432x288 with 1 Axes>"
      ]
     },
     "metadata": {},
     "output_type": "display_data"
    }
   ],
   "source": [
    "#it is the pychart for the function on the basis for the\n",
    "\n",
    "plt.pie(li,labels=mi,radius=1.2,autopct='%0.0f%%',shadow=True)"
   ]
  },
  {
   "cell_type": "code",
   "execution_count": 111,
   "metadata": {},
   "outputs": [
    {
     "data": {
      "text/plain": [
       "([<matplotlib.patches.Wedge at 0xbe73a10>,\n",
       "  <matplotlib.patches.Wedge at 0xbe73e90>,\n",
       "  <matplotlib.patches.Wedge at 0xbe7d3f0>,\n",
       "  <matplotlib.patches.Wedge at 0xbe7d970>,\n",
       "  <matplotlib.patches.Wedge at 0xbe7dfd0>],\n",
       " [Text(1.1931266226227786, 0.5646670367471099, 'DavidSmith@gmail.com'),\n",
       "  Text(0.13521405190611233, 1.3130564192627563, 'JackCorner@gmail.com'),\n",
       "  Text(-1.1931265697548297, 0.564667148455684, 'MariaHernandez@gmail.com'),\n",
       "  Text(-0.7537982462267956, -1.083599651156001, 'MichaelSmith@gmail.com'),\n",
       "  Text(1.0006844059569309, -0.8608314118772761, 'ThomasJoe@gmail.com')],\n",
       " [Text(0.6507963396124246, 0.30800020186205995, '14%'),\n",
       "  Text(0.0737531192215158, 0.7162125923251398, '19%'),\n",
       "  Text(-0.6507963107753616, 0.3080002627940094, '21%'),\n",
       "  Text(-0.4111626797600703, -0.5910543551760006, '24%'),\n",
       "  Text(0.5458278577946896, -0.46954440647851414, '23%')])"
      ]
     },
     "execution_count": 111,
     "metadata": {},
     "output_type": "execute_result"
    },
    {
     "data": {
      "image/png": "[encoded data removed]",
      "text/plain": [
       "<Figure size 432x288 with 1 Axes>"
      ]
     },
     "metadata": {},
     "output_type": "display_data"
    }
   ],
   "source": [
    "plt.pie(y3,labels=x3,radius=1.2,autopct='%0.0f%%',shadow=True)"
   ]
  },
  {
   "cell_type": "code",
   "execution_count": null,
   "metadata": {},
   "outputs": [],
   "source": []
  }
 ],
 "metadata": {
  "kernelspec": {
   "display_name": "Python 3",
   "language": "python",
   "name": "python3"
  },
  "language_info": {
   "codemirror_mode": {
    "name": "ipython",
    "version": 3
   },
   "file_extension": ".py",
   "mimetype": "text/x-python",
   "name": "python",
   "nbconvert_exporter": "python",
   "pygments_lexer": "ipython3",
   "version": "3.7.3"
  }
 },
 "nbformat": 4,
 "nbformat_minor": 4
}
